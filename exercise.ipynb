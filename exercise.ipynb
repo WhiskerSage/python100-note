{
 "cells": [
  {
   "cell_type": "markdown",
   "id": "2ce4f3b2-7da7-4188-8404-f0497c2e0aed",
   "metadata": {
    "jp-MarkdownHeadingCollapsed": true
   },
   "source": [
    "## **输入输出 强转 数据类型**"
   ]
  },
  {
   "cell_type": "code",
   "execution_count": 35,
   "id": "3a223aaf-ef8e-4c23-9893-e6a80b7d66af",
   "metadata": {},
   "outputs": [
    {
     "name": "stdin",
     "output_type": "stream",
     "text": [
      "请输入a的值： 1\n"
     ]
    },
    {
     "name": "stdout",
     "output_type": "stream",
     "text": [
      "1\n"
     ]
    }
   ],
   "source": [
    "a=input(\"请输入a的值：\")\n",
    "a=int(a) #强转\n",
    "if a==1:\n",
    "    print(a)"
   ]
  },
  {
   "cell_type": "code",
   "execution_count": 36,
   "id": "8e530c57-ba50-47a2-bc20-4add190dac76",
   "metadata": {},
   "outputs": [
    {
     "name": "stdout",
     "output_type": "stream",
     "text": [
      "c的数据类型： <class 'float'>\n"
     ]
    }
   ],
   "source": [
    "b=1.1\n",
    "c=a+b\n",
    "print(\"c的数据类型：\",type(c))"
   ]
  },
  {
   "cell_type": "markdown",
   "id": "b88fdaf3-531b-4a82-9111-40b6948a54c3",
   "metadata": {
    "jp-MarkdownHeadingCollapsed": true
   },
   "source": [
    "## **字符串**"
   ]
  },
  {
   "cell_type": "markdown",
   "id": "f9a0a011-629d-46d9-a5f3-eed1f5fe7bc6",
   "metadata": {},
   "source": [
    "负数是从后往前"
   ]
  },
  {
   "cell_type": "code",
   "execution_count": 39,
   "id": "6599f51f-6398-4d19-9736-ff485c53d12a",
   "metadata": {},
   "outputs": [
    {
     "name": "stdout",
     "output_type": "stream",
     "text": [
      "an\n"
     ]
    }
   ],
   "source": [
    "name=\"Danny\"\n",
    "print(name[1:3]) #左闭右开"
   ]
  },
  {
   "cell_type": "markdown",
   "id": "2015ff41-d7e7-4022-8f21-9a845493d910",
   "metadata": {
    "jp-MarkdownHeadingCollapsed": true
   },
   "source": [
    "## **运算符**"
   ]
  },
  {
   "cell_type": "markdown",
   "id": "8e23646a-48c3-4d86-9633-8a343ec21c06",
   "metadata": {},
   "source": [
    "和C++里没什么区别，但有in，not in"
   ]
  },
  {
   "cell_type": "code",
   "execution_count": 42,
   "id": "35e3270a-612b-41aa-9471-9b2c47ed6881",
   "metadata": {},
   "outputs": [
    {
     "name": "stdout",
     "output_type": "stream",
     "text": [
      "True\n"
     ]
    }
   ],
   "source": [
    "c=\"a\"\n",
    "print(c in name)"
   ]
  },
  {
   "cell_type": "markdown",
   "id": "b128d48d-9c83-4467-9b1b-f81b94af80f1",
   "metadata": {
    "jp-MarkdownHeadingCollapsed": true
   },
   "source": [
    "## **复合数据类型**"
   ]
  },
  {
   "cell_type": "markdown",
   "id": "8c7986f3-af9b-4f58-820b-59c3f79180dc",
   "metadata": {},
   "source": [
    "列表（类似于数组）<br>\n",
    "元组（和列表一样，只是不能修改，用“（）”括起来）<br>\n",
    "字典（存的是类似于pair）<br>\n",
    "集合（不允许重复）"
   ]
  },
  {
   "cell_type": "code",
   "execution_count": 62,
   "id": "c31d4943-67d5-4ed3-a7ab-107d4d80a1ee",
   "metadata": {},
   "outputs": [],
   "source": [
    "list1=[1,'2',3.0,True]\n",
    "list2=(1,'2',3.0,True)\n",
    "list3={\"第一个元素的值\":1,\"第二个元素\":2.0}  #字典"
   ]
  },
  {
   "cell_type": "code",
   "execution_count": 66,
   "id": "de23b39d-0d1e-4b59-a363-fb01e0380fde",
   "metadata": {},
   "outputs": [
    {
     "name": "stdout",
     "output_type": "stream",
     "text": [
      "2\n",
      "3.0\n",
      "{'第一个元素的值': 1, '第二个元素': 2.0}\n",
      "1\n"
     ]
    }
   ],
   "source": [
    "print(list1[1])\n",
    "print(list2[2])\n",
    "print(list3)\n",
    "print(list3[\"第一个元素的值\"]) "
   ]
  },
  {
   "cell_type": "markdown",
   "id": "f14f6bff-64be-46ff-9271-609c487cdc77",
   "metadata": {
    "jp-MarkdownHeadingCollapsed": true
   },
   "source": [
    "## **条件语句和循环语句**"
   ]
  },
  {
   "cell_type": "markdown",
   "id": "7d62bd62-4116-417f-8a46-68f00d3fec35",
   "metadata": {},
   "source": [
    "else if变成elif<br>\n",
    "range(5) 表示从0到4"
   ]
  },
  {
   "cell_type": "code",
   "execution_count": 85,
   "id": "ab6259b7-74e2-4825-a344-ad83d7961c92",
   "metadata": {},
   "outputs": [
    {
     "name": "stdout",
     "output_type": "stream",
     "text": [
      "a>-1\n"
     ]
    }
   ],
   "source": [
    "#if\n",
    "num1=0\n",
    "if num1>0:\n",
    "    print(\"a是正数\")\n",
    "elif num1>-1:\n",
    "    print(\"a>-1\")\n",
    "else:\n",
    "    print(\"a<=-1\")"
   ]
  },
  {
   "cell_type": "code",
   "execution_count": 99,
   "id": "40885653-aaf2-4f43-a567-ffc5857833e9",
   "metadata": {},
   "outputs": [
    {
     "name": "stdout",
     "output_type": "stream",
     "text": [
      "0\n",
      "1\n",
      "2\n",
      "a\n",
      "s\n",
      "d\n",
      "j\n",
      "i\n"
     ]
    }
   ],
   "source": [
    "#for循环\n",
    "for i in range(3):  #i从0到4变化\n",
    "    print(i)\n",
    "\n",
    "for i in \"asdji\":\n",
    "    print(i)"
   ]
  },
  {
   "cell_type": "code",
   "execution_count": 101,
   "id": "eb63e9a2-b4e9-4344-8c5e-be9682ee1d71",
   "metadata": {},
   "outputs": [
    {
     "name": "stdout",
     "output_type": "stream",
     "text": [
      "这是第 1 次循环\n",
      "这是第 2 次循环\n",
      "这是第 3 次循环\n",
      "这是第 4 次循环\n",
      "这是第 5 次循环\n",
      "终止\n"
     ]
    }
   ],
   "source": [
    "#while循环\n",
    "num1=0\n",
    "while num1<100:\n",
    "    num1+=1\n",
    "    print(\"这是第\",num1,\"次循环\")\n",
    "\n",
    "    if(num1==5):\n",
    "        print(\"终止\")\n",
    "        break"
   ]
  },
  {
   "cell_type": "markdown",
   "id": "7e2b80e1-12e5-4ae7-990a-7c12da29bdfe",
   "metadata": {
    "jp-MarkdownHeadingCollapsed": true
   },
   "source": [
    "## **函数**"
   ]
  },
  {
   "cell_type": "code",
   "execution_count": 106,
   "id": "6fccad60-81cb-4d58-9a62-91615dbd9908",
   "metadata": {},
   "outputs": [],
   "source": [
    "def fun(num):\n",
    "    result=1\n",
    "    for i in range(1,num+1):\n",
    "        result*=i\n",
    "    return result"
   ]
  },
  {
   "cell_type": "code",
   "execution_count": 110,
   "id": "c73b8be5-004f-4514-b398-af15832357bb",
   "metadata": {},
   "outputs": [
    {
     "name": "stdout",
     "output_type": "stream",
     "text": [
      "3628800\n"
     ]
    }
   ],
   "source": [
    "print(fun(10))"
   ]
  },
  {
   "cell_type": "code",
   "execution_count": 112,
   "id": "15127c59-c17d-44d6-bdbe-4df92ca04857",
   "metadata": {},
   "outputs": [
    {
     "name": "stdout",
     "output_type": "stream",
     "text": [
      "0\n",
      "1\n",
      "3\n",
      "6\n",
      "25\n"
     ]
    }
   ],
   "source": [
    "# 在参数名前面的*表示args是一个可变参数\n",
    "def add(*args):\n",
    "    total = 0\n",
    "    for val in args:\n",
    "        total += val\n",
    "    return total\n",
    "\n",
    "\n",
    "# 在调用add函数时可以传入0个或多个参数\n",
    "print(add())\n",
    "print(add(1))\n",
    "print(add(1, 2))\n",
    "print(add(1, 2, 3))\n",
    "print(add(1, 3, 5, 7, 9))"
   ]
  },
  {
   "cell_type": "code",
   "execution_count": 124,
   "id": "015ea614-c8a0-449a-a8e4-734590aae2a4",
   "metadata": {},
   "outputs": [],
   "source": [
    "def foo():\n",
    "    pass\n",
    "def bar():\n",
    "    pass"
   ]
  },
  {
   "cell_type": "code",
   "execution_count": 126,
   "id": "20903b8c-136f-49ba-bdad-e2ec27cdda1d",
   "metadata": {},
   "outputs": [
    {
     "name": "stdout",
     "output_type": "stream",
     "text": [
      "call foo()\n",
      "call bar()\n"
     ]
    }
   ],
   "source": [
    "# __name__是Python中一个隐含的变量它代表了模块的名字\n",
    "# 只有被Python解释器直接执行的模块的名字才是__main__\n",
    "if __name__ == '__main__':\n",
    "    print('call foo()')\n",
    "    foo()\n",
    "    print('call bar()')\n",
    "    bar()"
   ]
  },
  {
   "cell_type": "code",
   "execution_count": 128,
   "id": "b698ab05-b820-41d3-8b7b-4bd3fb19650b",
   "metadata": {},
   "outputs": [],
   "source": [
    "#规范格式\n",
    "def main():\n",
    "    # Todo: Add your code here\n",
    "    pass\n",
    "\n",
    "\n",
    "if __name__ == '__main__':\n",
    "    main()"
   ]
  },
  {
   "cell_type": "markdown",
   "id": "56eb1fac-a05d-4a6f-bf64-55e8b509e952",
   "metadata": {
    "jp-MarkdownHeadingCollapsed": true
   },
   "source": [
    "## **字符串和常用数据结构**"
   ]
  },
  {
   "cell_type": "code",
   "execution_count": 131,
   "id": "17f71c2a-ad18-4e45-8ee7-ee76d593e8b4",
   "metadata": {},
   "outputs": [
    {
     "name": "stdout",
     "output_type": "stream",
     "text": [
      "\\'hello, world!\\' \\n\\\\hello, world!\\\\\\n"
     ]
    }
   ],
   "source": [
    "s1 = r'\\'hello, world!\\''\n",
    "s2 = r'\\n\\\\hello, world!\\\\\\n'\n",
    "print(s1, s2, end='')"
   ]
  },
  {
   "cell_type": "code",
   "execution_count": 137,
   "id": "49778703-cf26-4c4b-a0cf-8a87d5beb9f1",
   "metadata": {},
   "outputs": [
    {
     "name": "stdout",
     "output_type": "stream",
     "text": [
      "[3, 5, 7, 10]\n"
     ]
    }
   ],
   "source": [
    "list=[1,3,5,7]\n",
    "list.append(10)\n",
    "list.pop(0)\n",
    "print(list)"
   ]
  },
  {
   "cell_type": "code",
   "execution_count": 143,
   "id": "9ddad8d7-7f01-4a86-9ab8-8e7f2500ac3f",
   "metadata": {},
   "outputs": [
    {
     "name": "stdout",
     "output_type": "stream",
     "text": [
      "1\n",
      "1\n",
      "2\n",
      "3\n",
      "5\n",
      "8\n",
      "13\n",
      "21\n",
      "34\n",
      "55\n",
      "89\n",
      "144\n",
      "233\n",
      "377\n",
      "610\n",
      "987\n",
      "1597\n",
      "2584\n",
      "4181\n",
      "6765\n"
     ]
    },
    {
     "data": {
      "text/plain": [
       "'\"yield 用于 fib 函数中，使得它成为一个生成器。生成器会逐步生成斐波那契数列的值，而不是一次性计算并返回一个完整的列表。\\n这使得生成器在处理大数据时非常高效，因为它们按需生成每个值，避免了占用过多的内存。'"
      ]
     },
     "execution_count": 143,
     "metadata": {},
     "output_type": "execute_result"
    }
   ],
   "source": [
    "def fib(n):\n",
    "    a, b = 0, 1\n",
    "    for _ in range(n):\n",
    "        a, b = b, a + b\n",
    "        yield a\n",
    "\n",
    "\n",
    "def main():\n",
    "    for val in fib(20):\n",
    "        print(val)\n",
    "\n",
    "\n",
    "if __name__ == '__main__':\n",
    "    main()\n",
    "\n",
    "\"\"\"\"yield 用于 fib 函数中，使得它成为一个生成器。生成器会逐步生成斐波那契数列的值，而不是一次性计算并返回一个完整的列表。\n",
    "这使得生成器在处理大数据时非常高效，因为它们按需生成每个值，避免了占用过多的内存。\"\"\""
   ]
  },
  {
   "cell_type": "markdown",
   "id": "fc5557f7-5dc8-4fb7-90a4-f59e077f25cf",
   "metadata": {
    "jp-MarkdownHeadingCollapsed": true
   },
   "source": [
    "## **类**"
   ]
  },
  {
   "cell_type": "markdown",
   "id": "bf3e6f81-e874-47bb-8426-1a4722666220",
   "metadata": {},
   "source": [
    "python3中自动继承object"
   ]
  },
  {
   "cell_type": "code",
   "execution_count": 178,
   "id": "c3f27915-c7d8-4486-b6a5-2ef296ac60bf",
   "metadata": {},
   "outputs": [],
   "source": [
    "class student:\n",
    "    def __init__(self,name,age):\n",
    "        self.age=age\n",
    "        self.name=name\n",
    "\n",
    "    def study(self,course_name):\n",
    "        print(f\"{self.name} 正在学习 {course_name}.\")"
   ]
  },
  {
   "cell_type": "code",
   "execution_count": 184,
   "id": "ec96f2d9-a0ee-4650-a6d4-6bbf0160baf3",
   "metadata": {},
   "outputs": [
    {
     "name": "stdout",
     "output_type": "stream",
     "text": [
      "抽象 正在学习 cs61c.\n"
     ]
    }
   ],
   "source": [
    "def main():\n",
    "    stu1=student(\"抽象\",40)\n",
    "    stu1.study(\"cs61c\")\n",
    "\n",
    "if __name__==\"__main__\":\n",
    "    main()"
   ]
  },
  {
   "cell_type": "markdown",
   "id": "0bed84fc-121b-4418-b49c-5a59420a7b1f",
   "metadata": {
    "jp-MarkdownHeadingCollapsed": true
   },
   "source": [
    "## **类进阶**"
   ]
  },
  {
   "cell_type": "markdown",
   "id": "7fecd1a5-d39c-4fca-98d6-873b031c0da5",
   "metadata": {},
   "source": [
    "Python 面向对象编程（OOP）的进阶概念，重点介绍了以下几个内容：\n",
    "\n",
    "1. **`@property` 装饰器（就是像C++一样的一个get函数和一个setter函数）**：\n",
    "   - `@property` 装饰器用于将类的方法转换为属性，允许你像访问普通属性一样访问方法。这通常用于在访问或修改对象属性时需要做一些额外控制的情况，比如数据验证。\n",
    "   - 它可以让你使用 getter 和 setter 方法，而不需要显式调用它们。例如，你可以用 `@property` 作为 getter 方法，通过 `@<property_name>.setter` 定义 setter 方法。\n",
    "\n",
    "2. **`__slots__` 魔法方法**：\n",
    "   - `__slots__` 用于限制类实例的属性，使得实例只能拥有定义的属性，而不能动态添加新的属性。这有助于节省内存空间，尤其是在需要创建大量对象时。\n",
    "   - 当使用 `__slots__` 时，Python 不再为每个实例创建 `__dict__` 来存储属性，这样可以大幅减少内存开销，同时提高属性访问速度。\n",
    "\n",
    "3. **静态方法和类方法**：\n",
    "   - 静态方法 (`@staticmethod`)：静态方法不依赖于实例或类本身，适用于不需要访问类或实例状态的功能。它的调用不需要创建类实例，直接通过类调用即可。\n",
    "   - 类方法 (`@classmethod`)：类方法的第一个参数是类本身（`cls`），而不是实例。它可以访问类级别的属性和方法，通常用于定义与类本身相关的操作（例如修改类变量）。\n",
    "\n",
    "总结来说，这篇文章帮助我们理解了 Python 面向对象编程的更多特性，包括如何控制属性访问、如何通过 `__slots__` 提高内存效率、以及如何使用静态方法和类方法来处理与类相关的功能。\n"
   ]
  },
  {
   "cell_type": "code",
   "execution_count": 209,
   "id": "7b0e6f0e-5c60-47b0-a710-fd96809a864d",
   "metadata": {},
   "outputs": [
    {
     "name": "stdout",
     "output_type": "stream",
     "text": [
      "王大锤正在玩飞行棋.\n",
      "王大锤正在玩斗地主.\n"
     ]
    }
   ],
   "source": [
    "class Person(object):\n",
    "\n",
    "    # 限定Person对象只能绑定_name, _age和_gender属性\n",
    "    __slots__ = ('_name', '_age', '_gender')\n",
    "\n",
    "    def __init__(self, name, age):\n",
    "        self._name = name\n",
    "        self._age = age\n",
    "\n",
    "    #设置访问\n",
    "    @property\n",
    "    def name(self):\n",
    "        return self._name\n",
    "\n",
    "    @property\n",
    "    def age(self):\n",
    "        return self._age\n",
    "\n",
    "    #设置修改\n",
    "    @age.setter\n",
    "    def age(self, age):\n",
    "        self._age = age\n",
    "\n",
    "    def play(self):\n",
    "        if self._age <= 16:\n",
    "            print('%s正在玩飞行棋.' % self._name)\n",
    "        else:\n",
    "            print('%s正在玩斗地主.' % self._name)\n",
    "\n",
    "\n",
    "def main():\n",
    "    person = Person('王大锤', 12)\n",
    "    person.play()\n",
    "    person._gender = '男'\n",
    "    person._age=22\n",
    "    person.play()\n",
    "\n",
    "if __name__==\"__main__\":\n",
    "    main()"
   ]
  },
  {
   "cell_type": "markdown",
   "id": "74a93db9-9b16-4abe-9e2f-6d9fddddc05b",
   "metadata": {},
   "source": [
    "### 继承（Inheritance）\r\n",
    "- **概念**：继承是面向对象编程中的一种机制，它允许一个类（子类）继承另一个类（父类）的属性和方法。通过继承，子类能够复用父类的代码，并且可以根据需要扩展或修改父类的行为。\r\n",
    "- **特点**：\r\n",
    "  - 子类继承父类的所有公共属性和方法。\r\n",
    "  - 子类可以重写父类的方法（方法重写），以便改变或扩展其功能。\r\n",
    "  - 子类可以添加额外的属性和方法，以增强功能。\r\n",
    "- **好处**：通过继承，可以减少重复代码，提高代码的可维护性和扩展性。\r\n",
    "\r\n",
    "### 多态（Polymorphism）\r\n",
    "- **概念**：多态是指不同的类可以对同一消息作出不同的响应。通过多态，允许不同类型的对象以相同的方式调用方法，而实际执行的行为是根据对象的具体类型来决定的。\r\n",
    "- **特点**：\r\n",
    "  - **方法重载**：同名方法可以有不同的实现，根据传入的参数类型或数量来决定调用哪个方法。\r\n",
    "  - **方法覆盖**：子类可以覆盖父类的方法，实现不同的行为。\r\n",
    "  - 多态使得相同的接口可以被不同类型的对象使用，提高了程序的灵活性和可扩展性。\r\n",
    "- **好处**：通过多态，可以编写更加通用的代码，使得不同的对象能够通过相同的接口执行不同的操作。\r\n",
    "\r\n",
    "### 总结\r\n",
    "继承和多态是面向对象编程中的两个核心特性。继承通过允许子类继承父类的属性和方法，提高了代码复用性；多态通过使得不同的对象可以以相同的方式响应不同的消息，增强了代码的灵活性和可扩展性。\r\n"
   ]
  },
  {
   "cell_type": "code",
   "execution_count": 212,
   "id": "2bf2947d-397d-4986-a79c-97ec07826d02",
   "metadata": {},
   "outputs": [
    {
     "name": "stdout",
     "output_type": "stream",
     "text": [
      "初三的王大锤正在学习数学.\n",
      "王大锤只能观看《熊出没》.\n",
      "骆昊砖家正在讲Python程序设计.\n",
      "骆昊正在观看爱情动作片.\n"
     ]
    }
   ],
   "source": [
    "class Person(object):\n",
    "    \"\"\"人\"\"\"\n",
    "\n",
    "    def __init__(self, name, age):\n",
    "        self._name = name\n",
    "        self._age = age\n",
    "\n",
    "    @property\n",
    "    def name(self):\n",
    "        return self._name\n",
    "\n",
    "    @property\n",
    "    def age(self):\n",
    "        return self._age\n",
    "\n",
    "    @age.setter\n",
    "    def age(self, age):\n",
    "        self._age = age\n",
    "\n",
    "    def play(self):\n",
    "        print('%s正在愉快的玩耍.' % self._name)\n",
    "\n",
    "    def watch_av(self):\n",
    "        if self._age >= 18:\n",
    "            print('%s正在观看爱情动作片.' % self._name)\n",
    "        else:\n",
    "            print('%s只能观看《熊出没》.' % self._name)\n",
    "\n",
    "\n",
    "class Student(Person):\n",
    "    \"\"\"学生\"\"\"\n",
    "\n",
    "    def __init__(self, name, age, grade):\n",
    "        super().__init__(name, age)\n",
    "        self._grade = grade\n",
    "\n",
    "    @property\n",
    "    def grade(self):\n",
    "        return self._grade\n",
    "\n",
    "    @grade.setter\n",
    "    def grade(self, grade):\n",
    "        self._grade = grade\n",
    "\n",
    "    def study(self, course):\n",
    "        print('%s的%s正在学习%s.' % (self._grade, self._name, course))\n",
    "\n",
    "\n",
    "class Teacher(Person):\n",
    "    \"\"\"老师\"\"\"\n",
    "\n",
    "    def __init__(self, name, age, title):\n",
    "        super().__init__(name, age)\n",
    "        self._title = title\n",
    "\n",
    "    @property\n",
    "    def title(self):\n",
    "        return self._title\n",
    "\n",
    "    @title.setter\n",
    "    def title(self, title):\n",
    "        self._title = title\n",
    "\n",
    "    def teach(self, course):\n",
    "        print('%s%s正在讲%s.' % (self._name, self._title, course))\n",
    "\n",
    "\n",
    "def main():\n",
    "    stu = Student('王大锤', 15, '初三')\n",
    "    stu.study('数学')\n",
    "    stu.watch_av()\n",
    "    t = Teacher('骆昊', 38, '砖家')\n",
    "    t.teach('Python程序设计')\n",
    "    t.watch_av()\n",
    "\n",
    "\n",
    "if __name__ == '__main__':\n",
    "    main()"
   ]
  },
  {
   "cell_type": "markdown",
   "id": "2bcd933f-6a81-4458-abe1-e67d8f6071a2",
   "metadata": {
    "jp-MarkdownHeadingCollapsed": true
   },
   "source": [
    "## **文件与异常**"
   ]
  },
  {
   "cell_type": "code",
   "execution_count": 223,
   "id": "a8ab70c1-4327-4f68-ba1e-4b5429c179a3",
   "metadata": {},
   "outputs": [
    {
     "name": "stdout",
     "output_type": "stream",
     "text": [
      "<_io.TextIOWrapper name='1.txt' mode='r' encoding='utf-8'>\n",
      "计院领导是sb\n"
     ]
    }
   ],
   "source": [
    "def main():\n",
    "    f = None\n",
    "    try:\n",
    "        f = open('1.txt', 'r', encoding='utf-8')\n",
    "        print(f)  #注意是f.read()\n",
    "        print(f.read())\n",
    "    except FileNotFoundError:\n",
    "        print('无法打开指定的文件!')\n",
    "    except LookupError:\n",
    "        print('指定了未知的编码!')\n",
    "    except UnicodeDecodeError:\n",
    "        print('读取文件时解码错误!')\n",
    "    finally:\n",
    "        if f:\n",
    "            f.close()\n",
    "\n",
    "\n",
    "if __name__ == '__main__':\n",
    "    main()"
   ]
  },
  {
   "cell_type": "markdown",
   "id": "315b619f-d491-4172-9052-7b18e67d7999",
   "metadata": {
    "jp-MarkdownHeadingCollapsed": true
   },
   "source": [
    "## **正则表达式**"
   ]
  },
  {
   "cell_type": "markdown",
   "id": "58137eeb-4456-4571-8057-c4bab1ccf3c7",
   "metadata": {},
   "source": [
    "<d p=\"266.69,1,25,16777215,1736941366,0,843b723a,1760350788548500224\">绿茶真心机</d>"
   ]
  },
  {
   "cell_type": "raw",
   "id": "154684f2-3738-4614-9561-2369f0984454",
   "metadata": {},
   "source": [
    "pattern = r\"<d.*?>(.*?)</d>\"\n",
    "matches = re.findall(pattern, xml_data)"
   ]
  },
  {
   "cell_type": "code",
   "execution_count": null,
   "id": "19f7c5e6-1a2b-4f9d-8028-ec859093699e",
   "metadata": {},
   "outputs": [],
   "source": []
  }
 ],
 "metadata": {
  "kernelspec": {
   "display_name": "Python (myenv)",
   "language": "python",
   "name": "myenv"
  },
  "language_info": {
   "codemirror_mode": {
    "name": "ipython",
    "version": 3
   },
   "file_extension": ".py",
   "mimetype": "text/x-python",
   "name": "python",
   "nbconvert_exporter": "python",
   "pygments_lexer": "ipython3",
   "version": "3.12.3"
  }
 },
 "nbformat": 4,
 "nbformat_minor": 5
}
