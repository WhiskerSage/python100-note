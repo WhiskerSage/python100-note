{
 "cells": [
  {
   "cell_type": "raw",
   "id": "b03fd3a5-8d23-4620-9482-63bd891643b3",
   "metadata": {},
   "source": [
    "  数据来源\r\n",
    "   ↓     ↑\r\n",
    "  其他数据类型 (列表、字典、NumPy 数组、文件等)\r\n",
    "     ↓  数据转换\r\n",
    "    pandas 数据结构\r\n",
    "        ↓\r\n",
    "   Series (一维)\r\n",
    "        ↓\r\n",
    "   DataFrame (二维)\r\n",
    "    ↓\r\n",
    "   数据操作、分析、建模数据操作、分析、建模"
   ]
  },
  {
   "cell_type": "markdown",
   "id": "67ccfac9-e78c-45da-9691-f773981cffcf",
   "metadata": {
    "jp-MarkdownHeadingCollapsed": true
   },
   "source": [
    "## **深入浅出pandas1**"
   ]
  },
  {
   "cell_type": "markdown",
   "id": "98a4d8c9-af4f-4f8b-9712-5d6032f96f11",
   "metadata": {},
   "source": [
    "Pandas 核心的数据类型是Series（数据系列）、DataFrame（数据窗/数据框），分别用于处理一维和二维的数据，除此之外，还有一个名为Index的类型及其子类型，它们为Series和DataFrame提供了索引功能。日常工作中DataFrame使用得最为广泛，因为二维的数据结构刚好可以对应有行有列的表格。Series和DataFrame都提供了大量的处理数据的方法，数据分析师以此为基础，可以实现对数据的筛选、合并、拼接、清洗、预处理、聚合、透视和可视化等各种操作。"
   ]
  },
  {
   "cell_type": "code",
   "execution_count": 5,
   "id": "21bf205f-a467-404c-9bbc-ba32b3527298",
   "metadata": {},
   "outputs": [
    {
     "data": {
      "text/plain": [
       "一季度    120\n",
       "二季度    380\n",
       "三季度    250\n",
       "四季度    360\n",
       "dtype: int64"
      ]
     },
     "execution_count": 5,
     "metadata": {},
     "output_type": "execute_result"
    }
   ],
   "source": [
    "import numpy as np\n",
    "import pandas as pd\n",
    "\n",
    "ser1 = pd.Series(data=[120, 380, 250, 360], index=['一季度', '二季度', '三季度', '四季度'])\n",
    "ser1"
   ]
  },
  {
   "cell_type": "code",
   "execution_count": 7,
   "id": "b7152401-1125-4bc1-a6b5-d15574fa4b66",
   "metadata": {},
   "outputs": [],
   "source": [
    "ser2=ser1+100"
   ]
  },
  {
   "cell_type": "code",
   "execution_count": 9,
   "id": "8ae13973-6ea2-4313-8762-13b0648ba080",
   "metadata": {},
   "outputs": [
    {
     "name": "stdout",
     "output_type": "stream",
     "text": [
      "int64\n",
      "False\n",
      "Index(['一季度', '二季度', '三季度', '四季度'], dtype='object')\n",
      "[220 480 350 460]\n",
      "False\n",
      "True\n"
     ]
    }
   ],
   "source": [
    "print(ser2.dtype)                    # 数据类型\n",
    "print(ser2.hasnans)                  # 有没有空值\n",
    "print(ser2.index)                    # 索引\n",
    "print(ser2.values)                   # 值\n",
    "print(ser2.is_monotonic_increasing)  # 是否单调递增\n",
    "print(ser2.is_unique)                # 是否每个值都独一无二"
   ]
  },
  {
   "cell_type": "code",
   "execution_count": 11,
   "id": "11c90250-66fe-4019-863e-0380ce246cfe",
   "metadata": {},
   "outputs": [
    {
     "name": "stdout",
     "output_type": "stream",
     "text": [
      "4\n",
      "1510\n",
      "377.5\n",
      "405.0\n",
      "480\n",
      "220\n",
      "119.54775893619531\n",
      "14291.666666666666\n"
     ]
    }
   ],
   "source": [
    "print(ser2.count())   # 计数\n",
    "print(ser2.sum())     # 求和\n",
    "print(ser2.mean())    # 求平均\n",
    "print(ser2.median())  # 找中位数\n",
    "print(ser2.max())     # 找最大\n",
    "print(ser2.min())     # 找最小\n",
    "print(ser2.std())     # 求标准差\n",
    "print(ser2.var())     # 求方差"
   ]
  },
  {
   "cell_type": "code",
   "execution_count": 13,
   "id": "aba506b9-8abf-4424-ba33-2ba8dcd110e6",
   "metadata": {},
   "outputs": [
    {
     "data": {
      "text/plain": [
       "count      4.000000\n",
       "mean     377.500000\n",
       "std      119.547759\n",
       "min      220.000000\n",
       "25%      317.500000\n",
       "50%      405.000000\n",
       "75%      465.000000\n",
       "max      480.000000\n",
       "dtype: float64"
      ]
     },
     "execution_count": 13,
     "metadata": {},
     "output_type": "execute_result"
    }
   ],
   "source": [
    "ser2.describe()  #直接调用describe函数"
   ]
  },
  {
   "cell_type": "markdown",
   "id": "81bff78f-1626-4950-b118-f9dbf89edd84",
   "metadata": {},
   "source": [
    "<font size=4 color=Blue>处理数据<hr>\r\n",
    "Series对象的isna()和isnull()方法可以用于空值的判断，notna()和notnull()方法可以用于非空值的判断，代码如下所示</font>。"
   ]
  },
  {
   "cell_type": "code",
   "execution_count": 21,
   "id": "f67b11f2-dd7d-4f1c-83ae-d2bc773a47b7",
   "metadata": {},
   "outputs": [
    {
     "data": {
      "text/plain": [
       "0    False\n",
       "1    False\n",
       "2     True\n",
       "3    False\n",
       "4     True\n",
       "dtype: bool"
      ]
     },
     "execution_count": 21,
     "metadata": {},
     "output_type": "execute_result"
    }
   ],
   "source": [
    "ser4=pd.Series(data=[10,20,np.nan,30,np.nan])\n",
    "ser4.isna()"
   ]
  },
  {
   "cell_type": "code",
   "execution_count": 29,
   "id": "9ca36d75-d339-4c99-8ae1-5cf54471b17a",
   "metadata": {},
   "outputs": [],
   "source": [
    "ser3=ser4.dropna()"
   ]
  },
  {
   "cell_type": "code",
   "execution_count": 31,
   "id": "abb8f982-4403-45ec-80f8-41aa24e07941",
   "metadata": {},
   "outputs": [
    {
     "data": {
      "text/plain": [
       "0    10.0\n",
       "1    20.0\n",
       "3    30.0\n",
       "dtype: float64"
      ]
     },
     "execution_count": 31,
     "metadata": {},
     "output_type": "execute_result"
    }
   ],
   "source": [
    "ser3"
   ]
  },
  {
   "cell_type": "code",
   "execution_count": 33,
   "id": "1b3b3c55-7701-49c9-a777-fef1b1758e4c",
   "metadata": {},
   "outputs": [
    {
     "data": {
      "text/plain": [
       "0    10.0\n",
       "1    20.0\n",
       "2    40.0\n",
       "3    30.0\n",
       "4    40.0\n",
       "dtype: float64"
      ]
     },
     "execution_count": 33,
     "metadata": {},
     "output_type": "execute_result"
    }
   ],
   "source": [
    "ser4.fillna(value=40)  # 将空值填充为40"
   ]
  },
  {
   "cell_type": "code",
   "execution_count": 41,
   "id": "96e159c2-51d6-4772-8f96-dac524c40ef2",
   "metadata": {},
   "outputs": [
    {
     "data": {
      "text/plain": [
       "0    10.0\n",
       "1    20.0\n",
       "2    20.0\n",
       "3    30.0\n",
       "4    30.0\n",
       "dtype: float64"
      ]
     },
     "execution_count": 41,
     "metadata": {},
     "output_type": "execute_result"
    }
   ],
   "source": [
    "ser4.ffill()  # 使用前向填充"
   ]
  },
  {
   "cell_type": "markdown",
   "id": "b7fce171-4b64-42b2-86ca-fecca4e90968",
   "metadata": {},
   "source": [
    "<font size=3 color=Blue>Series对象的<strong>mask()和where()</strong>方法可以将满足或不满足条件的值进行替换，如下所示。</font>"
   ]
  },
  {
   "cell_type": "code",
   "execution_count": 44,
   "id": "abb5af0f-ca35-40fd-a98a-6584c5a9817e",
   "metadata": {},
   "outputs": [
    {
     "data": {
      "text/plain": [
       "0    NaN\n",
       "1    1.0\n",
       "2    2.0\n",
       "3    3.0\n",
       "4    4.0\n",
       "dtype: float64"
      ]
     },
     "execution_count": 44,
     "metadata": {},
     "output_type": "execute_result"
    }
   ],
   "source": [
    "ser5 = pd.Series(range(5))\n",
    "ser5.where(ser5 > 0)"
   ]
  },
  {
   "cell_type": "markdown",
   "id": "ee588c2e-c40c-49fc-b784-3f736b9aaf3b",
   "metadata": {},
   "source": [
    "<font size=3 color=Blue>Series对象的<strong>apply()和map()</strong>方法非常重要，它们可以通过字典或者指定的函数来处理数据，把数据映射或转换成我们想要的样子。这两个方法在数据准备阶段非常重要，我们先来试一试这个名为map的方法。</font>"
   ]
  },
  {
   "cell_type": "code",
   "execution_count": 56,
   "id": "56716714-9453-4a4c-a8d8-1dfce020f87e",
   "metadata": {},
   "outputs": [
    {
     "data": {
      "text/plain": [
       "0       cat\n",
       "1       dog\n",
       "2       NaN\n",
       "3    rabbit\n",
       "dtype: object"
      ]
     },
     "execution_count": 56,
     "metadata": {},
     "output_type": "execute_result"
    }
   ],
   "source": [
    "ser6 = pd.Series(['cat', 'dog', np.nan, 'rabbit'])\n",
    "ser6"
   ]
  },
  {
   "cell_type": "code",
   "execution_count": 58,
   "id": "95308f27-e997-4b23-b811-692e9aafa5bb",
   "metadata": {},
   "outputs": [
    {
     "data": {
      "text/plain": [
       "0    kitten\n",
       "1     puppy\n",
       "2       NaN\n",
       "3       NaN\n",
       "dtype: object"
      ]
     },
     "execution_count": 58,
     "metadata": {},
     "output_type": "execute_result"
    }
   ],
   "source": [
    "ser6.map({'cat': 'kitten', 'dog': 'puppy'})"
   ]
  },
  {
   "cell_type": "code",
   "execution_count": 64,
   "id": "ff51a6c9-6109-4b17-b513-d9255a0760cb",
   "metadata": {},
   "outputs": [
    {
     "data": {
      "text/plain": [
       "0       I am a cat\n",
       "1       I am a dog\n",
       "2              NaN\n",
       "3    I am a rabbit\n",
       "dtype: object"
      ]
     },
     "execution_count": 64,
     "metadata": {},
     "output_type": "execute_result"
    }
   ],
   "source": [
    "ser6.map('I am a {}'.format, na_action='ignore')"
   ]
  },
  {
   "cell_type": "markdown",
   "id": "0a32259c-534c-4c94-9de0-b96ad0346454",
   "metadata": {
    "jp-MarkdownHeadingCollapsed": true
   },
   "source": [
    "## **绘制图表**"
   ]
  },
  {
   "cell_type": "markdown",
   "id": "54b88369-6031-407c-a8ed-224f11907cb2",
   "metadata": {},
   "source": [
    "Series对象的***索引作为横坐标，使用Series对象的数据作为纵坐标。***下面我们创建一个Series对象并基于它绘制柱状图"
   ]
  },
  {
   "cell_type": "code",
   "execution_count": 85,
   "id": "fa92db19-38a9-4726-aa37-0ced37680bae",
   "metadata": {},
   "outputs": [
    {
     "data": {
      "image/png": "[encoded data removed]",
      "text/plain": [
       "<Figure size 640x480 with 1 Axes>"
      ]
     },
     "metadata": {},
     "output_type": "display_data"
    }
   ],
   "source": [
    "import matplotlib.pyplot as plt\n",
    "\n",
    "ser9 = pd.Series({'Q1': 400, 'Q2': 520, 'Q3': 180, 'Q4': 380})\n",
    "# 通过plot方法的kind指定图表类型为柱状图\n",
    "ser9.plot(kind='bar')\n",
    "plt.show()"
   ]
  },
  {
   "cell_type": "code",
   "execution_count": 93,
   "id": "55b0179b-eb07-4dcb-aa9a-30e6120da941",
   "metadata": {},
   "outputs": [
    {
     "data": {
      "image/png": "[encoded data removed]",
      "text/plain": [
       "<Figure size 640x480 with 1 Axes>"
      ]
     },
     "metadata": {},
     "output_type": "display_data"
    }
   ],
   "source": [
    "ser9.plot(kind='bar')\n",
    "# 定制纵轴的取值范围\n",
    "plt.ylim(0, 600)\n",
    "# 定制横轴刻度（旋转到0度）\n",
    "plt.xticks(rotation=0)\n",
    "\n",
    "# 为柱子增加数据标签\n",
    "'''for i in range(ser9.size):\n",
    "    plt.text(i, ser9[i] + 5, ser9[i], ha='center')'''\n",
    "for i in range(ser9.size):\n",
    "    plt.text(i, (ser9.iloc[i]) + 5, ser9.iloc[i], ha=\"center\")\n",
    "\n",
    "plt.show()"
   ]
  },
  {
   "cell_type": "code",
   "execution_count": 101,
   "id": "54b9e1d6-6f3d-4513-bd7a-f6b3ec2faaf3",
   "metadata": {},
   "outputs": [
    {
     "data": {
      "image/png": "[encoded data removed]",
      "text/plain": [
       "<Figure size 640x480 with 1 Axes>"
      ]
     },
     "metadata": {},
     "output_type": "display_data"
    }
   ],
   "source": [
    "# plot方法的kind参数指定了图表类型为饼图\n",
    "# autopct会自动计算并显示百分比\n",
    "# pctdistance用来控制百分比到圆心的距离\n",
    "ser9.plot(kind='pie', autopct='%.1f%%', pctdistance=0.55)\n",
    "plt.show()"
   ]
  },
  {
   "cell_type": "markdown",
   "id": "9952ad24-b9a0-4529-ab2f-cf34aca53c45",
   "metadata": {
    "jp-MarkdownHeadingCollapsed": true
   },
   "source": [
    "## **深入浅出pandas2**"
   ]
  },
  {
   "cell_type": "markdown",
   "id": "451a9a96-e801-42ed-bbd1-2e6ade4bf574",
   "metadata": {},
   "source": [
    "<font size=4 color=Blue>如果使用 pandas 做数据分析，那么DataFrame一定是被使用得最多的类型，它可以用来保存和处理异质的二维数据。这里所谓的“异质”是指DataFrame中每个列的数据类型不需要相同，这也是它区别于 NumPy 二维数组的地方。DataFrame提供了极为丰富的属性和方法，帮助我们实现对数据的重塑、清洗、预处理、透视、呈现等一系列操作。</font>"
   ]
  },
  {
   "cell_type": "markdown",
   "id": "1fcd00b1-cb77-4dc6-a8b6-f13ff805fa04",
   "metadata": {},
   "source": [
    "**可以通过二维数组、字典，csv文件、excel工作簿、关系数据库二维表创建dateframe对象**"
   ]
  },
  {
   "cell_type": "code",
   "execution_count": 39,
   "id": "7f66d961-c11e-4d68-9f84-1109f1412437",
   "metadata": {},
   "outputs": [
    {
     "data": {
      "text/html": [
       "<div>\n",
       "<style scoped>\n",
       "    .dataframe tbody tr th:only-of-type {\n",
       "        vertical-align: middle;\n",
       "    }\n",
       "\n",
       "    .dataframe tbody tr th {\n",
       "        vertical-align: top;\n",
       "    }\n",
       "\n",
       "    .dataframe thead th {\n",
       "        text-align: right;\n",
       "    }\n",
       "</style>\n",
       "<table border=\"1\" class=\"dataframe\">\n",
       "  <thead>\n",
       "    <tr style=\"text-align: right;\">\n",
       "      <th></th>\n",
       "      <th>Name</th>\n",
       "      <th>Age</th>\n",
       "      <th>City</th>\n",
       "    </tr>\n",
       "  </thead>\n",
       "  <tbody>\n",
       "    <tr>\n",
       "      <th>0</th>\n",
       "      <td>Alice</td>\n",
       "      <td>25</td>\n",
       "      <td>New York</td>\n",
       "    </tr>\n",
       "    <tr>\n",
       "      <th>1</th>\n",
       "      <td>Bob</td>\n",
       "      <td>30</td>\n",
       "      <td>Los Angeles</td>\n",
       "    </tr>\n",
       "    <tr>\n",
       "      <th>2</th>\n",
       "      <td>Charlie</td>\n",
       "      <td>35</td>\n",
       "      <td>Chicago</td>\n",
       "    </tr>\n",
       "    <tr>\n",
       "      <th>3</th>\n",
       "      <td>David</td>\n",
       "      <td>40</td>\n",
       "      <td>Boston</td>\n",
       "    </tr>\n",
       "  </tbody>\n",
       "</table>\n",
       "</div>"
      ],
      "text/plain": [
       "      Name  Age         City\n",
       "0    Alice   25     New York\n",
       "1      Bob   30  Los Angeles\n",
       "2  Charlie   35      Chicago\n",
       "3    David   40       Boston"
      ]
     },
     "execution_count": 39,
     "metadata": {},
     "output_type": "execute_result"
    }
   ],
   "source": [
    "import pandas as pd\n",
    "df3=pd.read_csv('csv数据.csv')\n",
    "df3"
   ]
  },
  {
   "cell_type": "code",
   "execution_count": 41,
   "id": "2b79af4c-baba-4d1f-81e2-2d4190fa22b3",
   "metadata": {},
   "outputs": [
    {
     "name": "stdout",
     "output_type": "stream",
     "text": [
      "<class 'pandas.core.frame.DataFrame'>\n",
      "RangeIndex: 4 entries, 0 to 3\n",
      "Data columns (total 3 columns):\n",
      " #   Column  Non-Null Count  Dtype \n",
      "---  ------  --------------  ----- \n",
      " 0   Name    4 non-null      object\n",
      " 1   Age     4 non-null      int64 \n",
      " 2   City    4 non-null      object\n",
      "dtypes: int64(1), object(2)\n",
      "memory usage: 228.0+ bytes\n"
     ]
    }
   ],
   "source": [
    "df3.info()"
   ]
  },
  {
   "cell_type": "code",
   "execution_count": 43,
   "id": "353fbb50-5c8e-402b-87bf-1f2c76197814",
   "metadata": {},
   "outputs": [
    {
     "data": {
      "text/html": [
       "<div>\n",
       "<style scoped>\n",
       "    .dataframe tbody tr th:only-of-type {\n",
       "        vertical-align: middle;\n",
       "    }\n",
       "\n",
       "    .dataframe tbody tr th {\n",
       "        vertical-align: top;\n",
       "    }\n",
       "\n",
       "    .dataframe thead th {\n",
       "        text-align: right;\n",
       "    }\n",
       "</style>\n",
       "<table border=\"1\" class=\"dataframe\">\n",
       "  <thead>\n",
       "    <tr style=\"text-align: right;\">\n",
       "      <th></th>\n",
       "      <th>Name</th>\n",
       "      <th>Age</th>\n",
       "      <th>City</th>\n",
       "    </tr>\n",
       "  </thead>\n",
       "  <tbody>\n",
       "    <tr>\n",
       "      <th>0</th>\n",
       "      <td>Alice</td>\n",
       "      <td>25</td>\n",
       "      <td>New York</td>\n",
       "    </tr>\n",
       "    <tr>\n",
       "      <th>1</th>\n",
       "      <td>Bob</td>\n",
       "      <td>30</td>\n",
       "      <td>Los Angeles</td>\n",
       "    </tr>\n",
       "  </tbody>\n",
       "</table>\n",
       "</div>"
      ],
      "text/plain": [
       "    Name  Age         City\n",
       "0  Alice   25     New York\n",
       "1    Bob   30  Los Angeles"
      ]
     },
     "execution_count": 43,
     "metadata": {},
     "output_type": "execute_result"
    }
   ],
   "source": [
    "df3.head(2)"
   ]
  },
  {
   "cell_type": "code",
   "execution_count": 45,
   "id": "6fd8354a-5e15-4043-81d4-c51c05aade97",
   "metadata": {},
   "outputs": [
    {
     "data": {
      "text/plain": [
       "0    25\n",
       "1    30\n",
       "2    35\n",
       "3    40\n",
       "Name: Age, dtype: int64"
      ]
     },
     "execution_count": 45,
     "metadata": {},
     "output_type": "execute_result"
    }
   ],
   "source": [
    "df3['Age']"
   ]
  },
  {
   "cell_type": "code",
   "execution_count": 47,
   "id": "e3aebd4b-e6ea-4548-a1ac-2d955794b450",
   "metadata": {},
   "outputs": [
    {
     "data": {
      "text/plain": [
       "Name    Charlie\n",
       "Age          35\n",
       "City    Chicago\n",
       "Name: 2, dtype: object"
      ]
     },
     "execution_count": 47,
     "metadata": {},
     "output_type": "execute_result"
    }
   ],
   "source": [
    "df3.iloc[2]"
   ]
  },
  {
   "cell_type": "markdown",
   "id": "3acda160-ce29-4ebf-a914-75e8805f1a9e",
   "metadata": {
    "jp-MarkdownHeadingCollapsed": true
   },
   "source": [
    "#### **数据筛选**"
   ]
  },
  {
   "cell_type": "code",
   "execution_count": 50,
   "id": "bfc7d895-a465-4680-939f-774662b1d593",
   "metadata": {},
   "outputs": [
    {
     "data": {
      "text/html": [
       "<div>\n",
       "<style scoped>\n",
       "    .dataframe tbody tr th:only-of-type {\n",
       "        vertical-align: middle;\n",
       "    }\n",
       "\n",
       "    .dataframe tbody tr th {\n",
       "        vertical-align: top;\n",
       "    }\n",
       "\n",
       "    .dataframe thead th {\n",
       "        text-align: right;\n",
       "    }\n",
       "</style>\n",
       "<table border=\"1\" class=\"dataframe\">\n",
       "  <thead>\n",
       "    <tr style=\"text-align: right;\">\n",
       "      <th></th>\n",
       "      <th>Name</th>\n",
       "      <th>Age</th>\n",
       "      <th>City</th>\n",
       "    </tr>\n",
       "  </thead>\n",
       "  <tbody>\n",
       "    <tr>\n",
       "      <th>2</th>\n",
       "      <td>Charlie</td>\n",
       "      <td>35</td>\n",
       "      <td>Chicago</td>\n",
       "    </tr>\n",
       "    <tr>\n",
       "      <th>3</th>\n",
       "      <td>David</td>\n",
       "      <td>40</td>\n",
       "      <td>Boston</td>\n",
       "    </tr>\n",
       "  </tbody>\n",
       "</table>\n",
       "</div>"
      ],
      "text/plain": [
       "      Name  Age     City\n",
       "2  Charlie   35  Chicago\n",
       "3    David   40   Boston"
      ]
     },
     "execution_count": 50,
     "metadata": {},
     "output_type": "execute_result"
    }
   ],
   "source": [
    "df3[df3.Age>30]"
   ]
  },
  {
   "cell_type": "code",
   "execution_count": 52,
   "id": "4c7260b4-3da2-47a4-86c0-c3528aee7ae4",
   "metadata": {},
   "outputs": [
    {
     "data": {
      "text/html": [
       "<div>\n",
       "<style scoped>\n",
       "    .dataframe tbody tr th:only-of-type {\n",
       "        vertical-align: middle;\n",
       "    }\n",
       "\n",
       "    .dataframe tbody tr th {\n",
       "        vertical-align: top;\n",
       "    }\n",
       "\n",
       "    .dataframe thead th {\n",
       "        text-align: right;\n",
       "    }\n",
       "</style>\n",
       "<table border=\"1\" class=\"dataframe\">\n",
       "  <thead>\n",
       "    <tr style=\"text-align: right;\">\n",
       "      <th></th>\n",
       "      <th>Name</th>\n",
       "      <th>Age</th>\n",
       "      <th>City</th>\n",
       "    </tr>\n",
       "  </thead>\n",
       "  <tbody>\n",
       "    <tr>\n",
       "      <th>2</th>\n",
       "      <td>Charlie</td>\n",
       "      <td>35</td>\n",
       "      <td>Chicago</td>\n",
       "    </tr>\n",
       "    <tr>\n",
       "      <th>3</th>\n",
       "      <td>David</td>\n",
       "      <td>40</td>\n",
       "      <td>Boston</td>\n",
       "    </tr>\n",
       "  </tbody>\n",
       "</table>\n",
       "</div>"
      ],
      "text/plain": [
       "      Name  Age     City\n",
       "2  Charlie   35  Chicago\n",
       "3    David   40   Boston"
      ]
     },
     "execution_count": 52,
     "metadata": {},
     "output_type": "execute_result"
    }
   ],
   "source": [
    "df3.query('Age>30')"
   ]
  },
  {
   "cell_type": "markdown",
   "id": "352c66d8-ee70-4c67-97db-ff31d9dc75d3",
   "metadata": {
    "jp-MarkdownHeadingCollapsed": true
   },
   "source": [
    "## **深入浅出pandas3**"
   ]
  },
  {
   "cell_type": "markdown",
   "id": "e40a398d-267a-4557-8f79-42e6f11febc3",
   "metadata": {},
   "source": [
    "\r\n",
    "### Pandas 数据处理进阶：重塑、清洗与预处理本篇笔记主要介绍了 Pandas 中数据重塑、数据清洗和数据预处理的相关知识和操作，这些是数据分析中至关重要的步骤。\r\n",
    "\r\n",
    "### 1. 数据重塑\r\n",
    "\r\n",
    "#### 1.1 数据拼接 (`concat`)\r\n",
    "\r\n",
    "-   **作用:** 将多个 DataFrame 对象按行或按列拼接在一起。\r\n",
    "-   **示例:**\r\n",
    "\r\n",
    "    ```python\r\n",
    "    all_emp_df = pd.concat([emp_df, emp2_df])\r\n",
    "    ```\r\n",
    "\r\n",
    "    -   `emp_df` 和 `emp2_df` 为两个结构相同的员工数据 DataFrame。\r\n",
    "    -   拼接结果 `all_emp_df` 将两部分数据整合在一起。\r\n",
    "\r\n",
    "#### 1.2 数据合并 (`merge`)\r\n",
    "\r\n",
    "-   **作用:** 类似于 SQL 中的表连接，根据共同列合并 DataFrame。\r\n",
    "-   **示例:**\r\n",
    "\r\n",
    "    ```python\r\n",
    "    # 重置索引，使 'eno' 成为普通列\r\n",
    "    all_emp_df.reset_index(inplace=True)\r\n",
    "    # 合并员工表和部门表\r\n",
    "    pd.merge(all_emp_df, dept_df, how='inner', on='dno') #内连接\r\n",
    "    pd.merge(all_emp_df, dept_df, how='right', on='dno') #右外连接\r\n",
    "    ```\r\n",
    "\r\n",
    "    -   `how` 参数指定连接方式：`inner` (内连接), `left` (左连接), `right` (右连接), `outer` (外连接)\r\n",
    "    -   `on` 参数指定用于连接的列名，类似SQL的连接条件。\r\n",
    "    -   可以使用 `left_on` 和 `right_on` 分别指定左右表的连接列。\r\n",
    "   -   注意： DataFrame 对象本身也提供 `merge` 方法。\r\n",
    "\r\n",
    "### 2. 数据清洗\r\n",
    "\r\n",
    "#### 2.1 缺失值处理\r\n",
    "\r\n",
    "-   **查找缺失值:** `isnull()` 或 `isna()`\r\n",
    "    ```python\r\n",
    "    emp_df.isnull()\r\n",
    "    emp_df.isna()\r\n",
    "    ```\r\n",
    "-   **删除缺失值:** `dropna()`\r\n",
    "    ```python\r\n",
    "    emp_df.dropna() # 删除包含缺失值的行（默认）\r\n",
    "    emp_df.dropna(axis=1) # 删除包含缺失值的列\r\n",
    "    ```\r\n",
    "    -   `axis=0` (默认)删除包含缺失值的行；`axis=1` 删除包含缺失值的列。\r\n",
    "-   **填充缺失值:** `fillna()`\r\n",
    "    ```python\r\n",
    "    emp_df.fillna(value=0) # 使用指定值填充\r\n",
    "    emp_df.fillna(method='ffill') # 使用前一个单元格的值填充\r\n",
    "    emp_df.fillna(method='bfill') # 使用后一个单元格的值填充\r\n",
    "    ```\r\n",
    "    -   `value`: 指定填充值。\r\n",
    "    -  `method`: 使用前一个 `ffill` 或后一个 `bfill` 值填充。\r\n",
    "   -   `inplace` 参数为 `True`时，会直接修改原DataFrame。\r\n",
    "\r\n",
    "#### 2.2 重复值处理\r\n",
    "\r\n",
    "-   **查找重复值:** `duplicated()`\r\n",
    "    ```python\r\n",
    "    dept_df.duplicated('dname') # 根据 'dname' 列判断重复值\r\n",
    "    ```\r\n",
    "-   **删除重复值:** `drop_duplicates()`\r\n",
    "    ```python\r\n",
    "    dept_df.drop_duplicates('dname') # 根据'dname'列删除重复行，保留第一个\r\n",
    "     dept_df.drop_duplicates('dname', keep='last') # 根据'dname'列删除重复行，保留最后一个\r\n",
    "     all_emp_df.drop_duplicates(['ename', 'job'], inplace=True) # 根据多列删除重复行,并直接修改原df\r\n",
    "    ```\r\n",
    "\r\n",
    "    -  `keep` 参数：`first`(保留第一个，默认), `last` (保留最后一个), `False` (全部删除)\r\n",
    "\r\n",
    "#### 2.3 异常值处理\r\n",
    "\r\n",
    "-   **异常值定义:**\r\n",
    "    -   **Z-score 方法:** 数据值偏离均值超过一定倍数的标准差。\r\n",
    "    -   **IQR 方法:** 数据值小于 $Q1 - 1.5 \\times IQR$ 或大于 $Q3 + 1.5 \\times IQR$。\r\n",
    "-   **Z-score 检测:**\r\n",
    "\r\n",
    "    ```python\r\n",
    "    def detect_outliers_zscore(data, threshold=3):\r\n",
    "        avg_value = np.mean(data)\r\n",
    "        std_value = np.std(data)\r\n",
    "        z_score = np.abs((data - avg_value) / std_value)\r\n",
    "        return data[z_score > threshold]\r\n",
    "    ```\r\n",
    "-   **IQR 检测:**\r\n",
    "\r\n",
    "    ```python\r\n",
    "    def detect_outliers_iqr(data, whis=1.5):\r\n",
    "        q1, q3 = np.quantile(data, [0.25, 0.75])\r\n",
    "        iqr = q3 - q1\r\n",
    "        lower, upper = q1 - whis * iqr, q3 + whis * iqr\r\n",
    "        return data[(data < lower) | (data > upper)]\r\n",
    "    ```\r\n",
    "-   **删除异常值:** `drop()`\r\n",
    "    ```python\r\n",
    "    emp_df.drop(emp_df[(emp_df.sal > 8000) | (emp_df.sal < 2000)].index)\r\n",
    "    ```\r\n",
    "-   **替换异常值:** `replace()`\r\n",
    "    ```python\r\n",
    "    avg_sal = np.mean(emp_df.sal).astype(int)\r\n",
    "    emp_df.replace({'sal': [1800, 9000], 'comm': 800}, {'sal': avg_sal, 'comm': 1000})\r\n",
    "    ```\r\n",
    "\r\n",
    "### 3. 数据预处理\r\n",
    "\r\n",
    "#### 3.1 日期时间处理\r\n",
    "\r\n",
    "-   **转换为日期时间类型:** `pd.to_datetime()` (如果日期时间数据是字符串)\r\n",
    "-   **日期时间属性:** 通过 `.dt` 访问日期时间属性，如 `year`, `month`, `quarter`, `weekday`, `hour` 等。\r\n",
    "    ```python\r\n",
    "    sales_df['月份'] = sales_df['销售日期'].dt.month\r\n",
    "    sales_df['季度'] = sales_df['销售日期'].dt.quarter\r\n",
    "    sales_df['星期'] = sales_df['销售日期'].dt.weekday\r\n",
    "    ```\r\n",
    "\r\n",
    "#### 3.2 字符串处理\r\n",
    "\r\n",
    "-   **字符串向量化:** 通过 `.str` 访问字符串属性进行操作，如 `contains()`, `extract()`.\r\n",
    "    ```python\r\n",
    "      jobs_df = jobs_df[jobs_df.positionName.str.contains('数据分析')] # 模糊匹配职位\r\n",
    "    jobs_df.salary.str.extract(r'(\\d+)[kK]?-(\\d+)[kK]?') # 使用正则提取数字\r\n",
    "    ```\r\n",
    "-    **applymap()**: 将函数作用于 DataFrame 的每一个元素。\r\n",
    "-    **apply()**: 将函数应用于 DataFrame 的行或列(需要指定 `axis` )\r\n",
    "    ```python\r\n",
    "    temp_df = jobs_df.salary.str.extract(r'(\\d+)[kK]?-(\\d+)[kK]?').applymap(int)\r\n",
    "    temp_df.apply(np.mean, axis=1)\r\n",
    "    ```\r\n",
    "-  **transform()**： 没有归约效果的数据变换。\r\n",
    "-   **哑变量（虚拟变量）矩阵:** `pd.get_dummies()`\r\n",
    "\r\n",
    "    ```python\r\n",
    "    pd.get_dummies(persons_df['职业'])\r\n",
    "    ```\r\n",
    "\r\n",
    "#### 3.3 数据离散化（分箱）\r\n",
    "\r\n",
    "-   **等距分箱:** `pd.cut()`\r\n",
    "\r\n",
    "    ```python\r\n",
    "    bins = np.arange(90, 126, 5)\r\n",
    "    pd.cut(luohu_df.score, bins, right=False) #right=False 指定右开区间\r\n",
    "    ```\r\n",
    "\r\n",
    "    - `right` 参数指定是否右开。\r\n",
    "-   **等频分箱（分位数分箱）:** `pd.qcut()`\r\n",
    "     (请自行探索)\r\n",
    "\r\n",
    "###  总结\r\n",
    "\r\n",
    "本篇笔记涵盖了 Pandas 中数据处理的常用操作，包括：\r\n",
    "\r\n",
    "-   **数据重塑:** 使用 `concat` 和 `merge` 函数进行数据拼接和合并。\r\n",
    "-   **数据清洗:** 处理缺失值、重复值和异常值。\r\n",
    "-   **数据预处理:**  日期时间数据的提取, 字符串数据的处理，数据离散化等。\r\n",
    "-   **注意:** `inplace` 参数会直接修改原 DataFrame。\r\n",
    "-   **数据转换:** 将非数值类型的数据（如字符串、日期时间）转化为数值类型是后续数据分析和建模的基础。\r\n",
    "\r\n",
    "**提示:** 掌握这些技巧能有效地提高数据预处理的效率，为后续的数据分析和建模打下坚实的基础。\r\n"
   ]
  },
  {
   "cell_type": "markdown",
   "id": "f923fc2b-ea29-492e-8205-6c3d5750f0cc",
   "metadata": {
    "jp-MarkdownHeadingCollapsed": true
   },
   "source": [
    "## **深入浅出pandas4**"
   ]
  },
  {
   "cell_type": "markdown",
   "id": "c9b67edf-fcc8-479b-8f35-c88fa616e219",
   "metadata": {},
   "source": [
    "涵盖了 Pandas 数据透视、分组聚合以及数据呈现的内容\r\n",
    "\r\n",
    "### Pandas 数据透视、分组聚合与数据呈现\r\n",
    "\r\n",
    "本篇笔记主要介绍了 Pandas 中数据透视、分组聚合以及数据呈现的相关知识和操作，这些是数据分析中非常重要的环节。\r\n",
    "\r\n",
    "### 1. 数据透视\r\n",
    "\r\n",
    "#### 1.1 获取描述性统计信息\r\n",
    "\r\n",
    "-   **目的:**  了解数据的集中趋势和离散趋势。\r\n",
    "-   **常用方法:**\r\n",
    "    *   `mean()`:  平均值\r\n",
    "    *   `max()`: 最大值\r\n",
    "    *   `min()`:  最小值\r\n",
    "    *   `std()`: 标准差\r\n",
    "    *   `var()`: 方差\r\n",
    "    *   `describe()`: 汇总统计信息\r\n",
    "-   **示例:**\r\n",
    "    ```python\r\n",
    "    df.mean()      # 计算每列的平均值\r\n",
    "    df.mean(axis=1) # 计算每行的平均值\r\n",
    "    df.var()       # 计算每列的方差\r\n",
    "    df.describe()   # 获取描述性统计信息\r\n",
    "    ```\r\n",
    "    *   注意 `axis=1` 参数的作用 (按行计算)。\r\n",
    "\r\n",
    "#### 1.2 排序和取头部值\r\n",
    "\r\n",
    "-   **排序:** `sort_values()`\r\n",
    "    ```python\r\n",
    "    df.sort_values(by='语文', ascending=False) # 按 '语文' 列降序排序\r\n",
    "    ```\r\n",
    "    -   `by`：指定排序的列。\r\n",
    "    -   `ascending`：指定升序 (True) 或降序 (False)。\r\n",
    "-   **Top N:** `nlargest()` 和 `nsmallest()`\r\n",
    "    ```python\r\n",
    "    df.nlargest(3, '语文')  # 获取 '语文' 列前 3 名\r\n",
    "    df.nsmallest(3, '数学') # 获取 '数学' 列后 3 名\r\n",
    "    ```\r\n",
    "\r\n",
    "#### 1.3 分组聚合\r\n",
    "\r\n",
    "-   **分组:** `groupby()`\r\n",
    "    ```python\r\n",
    "    df.groupby('销售区域').销售额.sum() #按销售区域分组，计算销售额的总和\r\n",
    "    df.groupby(df['销售日期'].dt.month).销售额.sum()# 按销售月份分组，计算销售额总和\r\n",
    "    df.groupby(['销售区域', df['销售日期'].dt.month]).销售额.sum() #按销售区域和月份分组，计算销售额总和\r\n",
    "    ```\r\n",
    "    -   `groupby()` 的参数可以是列名、时间信息或者列名的列表。\r\n",
    "-   **聚合:** `agg()`\r\n",
    "    ```python\r\n",
    "    df.groupby('销售区域').销售额.agg(['sum', 'max', 'min']) #对销售额使用多个聚合函数\r\n",
    "    df.groupby('销售区域').销售额.agg(销售总额='sum', 单笔最高='max', 单笔最低='min')#自定义聚合后列的名字\r\n",
    "    df.groupby('销售区域')[['销售额', '销售数量']].agg({\r\n",
    "        '销售额': 'sum', '销售数量': ['max', 'min']}) # 对不同列使用不同的聚合函数\r\n",
    "    ```\r\n",
    "     - 可以同时使用多个聚合函数。\r\n",
    "     - 可以自定义聚合后列的名字。\r\n",
    "     - 可以对不同的列应用不同的聚合函数。\r\n",
    "\r\n",
    "#### 1.4 透视表和交叉表\r\n",
    "\r\n",
    "-   **透视表:** `pivot_table()`\r\n",
    "    ```python\r\n",
    "    pd.pivot_table(df, index='销售区域', values='销售额', aggfunc='sum')  # 根据 '销售区域' 统计 '销售额'\r\n",
    "    pd.pivot_table(df, index=['销售区域', '月份'], values='销售额', aggfunc='sum') #多列索引\r\n",
    "    pd.pivot_table(df, index='销售区域', columns='月份', values='销售额', aggfunc='sum', fill_value=0) # 行转列，形成宽表\r\n",
    "    pd.pivot_table(df, index='销售区域', columns='月份', values='销售额', aggfunc='sum', fill_value=0, margins=True, margins_name='总计')  # 添加汇总\r\n",
    "    ```\r\n",
    "    -  `index`：指定用于分组的列（A 列）。\r\n",
    "    -  `values`:  指定需要统计的列（B 列）。\r\n",
    "    -  `aggfunc`: 指定聚合函数。\r\n",
    "    -  `columns`：将指定列转为表头，形成宽表。\r\n",
    "    -  `fill_value`: 填充空值。\r\n",
    "    -  `margins`: 添加汇总行和列。\r\n",
    "    -  `margins_name`: 自定义汇总行/列的名称。\r\n",
    "-   **交叉表:** `crosstab()`\r\n",
    "    ```python\r\n",
    "    pd.crosstab(index=sales_area, columns=sales_month, values=sales_amount, aggfunc='sum').fillna(0).astype('i8')\r\n",
    "    ```\r\n",
    "     - 类似于 `pivot_table`，但直接基于数组或 `Series` 对象进行统计。\r\n",
    "     - `fillna()` 方法可以填充空值。\r\n",
    "     - `astype()` 方法可以修改数据类型。\r\n",
    "\r\n",
    "### 2. 数据呈现\r\n",
    "\r\n",
    "-   **绘图:** `plot()`\r\n",
    "    ```python\r\n",
    "    import matplotlib.pyplot as plt\r\n",
    "    plt.rcParams['font.sans-serif'] = 'FZJKai-Z03S' #设置中文字体\r\n",
    "    %config InlineBackend.figure_format = 'svg' # 生成矢量图\r\n",
    "    temp = pd.pivot_table(df, index='销售区域', values='销售额', aggfunc='sum')\r\n",
    "    temp.plot(figsize=(8, 4), kind='bar')  # 柱状图\r\n",
    "    plt.xticks(rotation=0) # 横轴文字不旋转\r\n",
    "    plt.show() #显示图片\r\n",
    "    temp.sort_values(by='销售额', ascending=False).plot(\r\n",
    "        figsize=(6, 6),\r\n",
    "        kind='pie',       # 饼图\r\n",
    "        y='销售额',\r\n",
    "        ylabel='',\r\n",
    "        autopct='%.2f%%',\r\n",
    "        pctdistance=0.8,\r\n",
    "        wedgeprops=dict(linewidth=1, width=0.35),\r\n",
    "        legend=False\r\n",
    "    )\r\n",
    "    plt.show()\r\n",
    "    ```\r\n",
    "    -  `kind` 参数：指定图表类型 (`bar`, `pie`等)。\r\n",
    "    -  可以使用 `matplotlib` 库进行更精细的定制。\r\n",
    "    -  使用 `plt.show()` 展示图像。\r\n",
    "\r\n",
    "### 总结\r\n",
    "\r\n",
    "本篇笔记总结了 Pandas 中数据透视、分组聚合以及数据呈现的关键操作，这些是数据分析流程中的核心步骤。\r\n",
    "\r\n",
    "-   **描述性统计信息:** 快速了解数据分布特征。\r\n",
    "-   **排序和 Top N:**  快速定位重要数据。\r\n",
    "-   **分组聚合:**  按不同维度统计数据。\r\n",
    "-   **透视表:** 以更灵活的方式展示多维数据。\r\n",
    "-   **交叉表:**  直接基于数组或 `Series` 对象统计数据。\r\n",
    "-   **数据呈现:** 通过图表更直观地呈现数据。\r\n",
    "\r\n",
    "掌握这些方法，能够更有效地分析和解读数据，发现数据背后的商业价值。\r\n"
   ]
  },
  {
   "cell_type": "markdown",
   "id": "e5aaea99-6278-4ed1-89a5-d362df9adb9a",
   "metadata": {
    "jp-MarkdownHeadingCollapsed": true
   },
   "source": [
    "## **深入浅出pandas5**"
   ]
  },
  {
   "cell_type": "markdown",
   "id": "1f5c2859-4495-4d3a-adce-18810bf08434",
   "metadata": {},
   "source": [
    "Pandas 中计算同比环比、窗口计算以及相关性分析的关键知识点和操作\r\n",
    "\r\n",
    "### Pandas 数据分析进阶：同比环比、窗口计算与相关性介绍了 Pandas 中一些高级的数据分析技巧，包括计算同比环比、窗口计算以及相关性分析。\r\n",
    "\r\n",
    "### 1. 计算同比环比\r\n",
    "\r\n",
    "#### 1.1  准备数据\r\n",
    "\r\n",
    "-   使用 `pivot_table` 创建透视表，用于月度销售额分析。\r\n",
    "  ```python\r\n",
    "  sales_df = pd.read_excel('data/2020年销售数据.xlsx')\r\n",
    "  sales_df['月份'] = sales_df.销售日期.dt.month\r\n",
    "  sales_df['销售额'] = sales_df.售价 * sales_df.销售数量\r\n",
    "  result_df = sales_df.pivot_table(index='月份', values='销售额', aggfunc='sum')\r\n",
    "  result_df.rename(columns={'销售额': '本月销售额'}, inplace=True)\r\n",
    "  ```\r\n",
    "\r\n",
    "#### 1.2 环比计算方法\r\n",
    "\r\n",
    "*   **方法一：使用 `shift`**\r\n",
    "   -  使用 `shift(1)` 将数据向下移动一个单位（获取上月数据）\r\n",
    "   -   计算 `(本月销售额 - 上月销售额) / 上月销售额` 得到月环比\r\n",
    "    ```python\r\n",
    "    result_df['上月销售额'] = result_df.本月销售额.shift(1)\r\n",
    "    result_df['环比'] = (result_df.本月销售额 - result_df.上月销售额) / result_df.上月销售额\r\n",
    "    result_df.style.format(\r\n",
    "        formatter={'上月销售额': '{:.0f}', '环比': '{:.2%}'},\r\n",
    "        na_rep='--------'\r\n",
    "    )\r\n",
    "    ```\r\n",
    "     - 注意 `shift` 函数可以向前或向后移动数据，使用 `-1` 向前移动。\r\n",
    "     - 可以使用 `style.format()` 方法格式化输出。\r\n",
    "\r\n",
    "*   **方法二：使用 `pct_change`**\r\n",
    "\r\n",
    "    - 使用 `pct_change()` 直接计算变化的百分比。\r\n",
    "\r\n",
    "    ```python\r\n",
    "     result_df.drop(columns=['上月销售额', '环比'], inplace=True) #删除上一步生成的两列数据\r\n",
    "     result_df['环比'] = result_df.pct_change()\r\n",
    "     result_df\r\n",
    "    ```\r\n",
    "    - `periods` 参数可以控制时间周期，默认值为 `1` (环比), 设置为 `12` 时，可以得到相邻两年的月同比。\r\n",
    "\r\n",
    "### 2. 窗口计算\r\n",
    "\r\n",
    "- **`rolling()`:**  将数据置于指定大小的窗口内，并对窗口中的数据进行运算。\r\n",
    "-  读取股票数据\r\n",
    "```python\r\n",
    "  baidu_df = pd.read_excel('data/2022年股票数据.xlsx', sheet_name='BIDU')\r\n",
    "  baidu_df.sort_index(inplace=True)\r\n",
    "```\r\n",
    "-  **示例： 计算滑动均值**\r\n",
    "   ```python\r\n",
    "    baidu_df.rolling(5).mean() #计算 5 日均线\r\n",
    "    close_ma5 = baidu_df.Close.rolling(5).mean()\r\n",
    "    close_ma10 = baidu_df.Close.rolling(10).mean()\r\n",
    "    result_df = pd.merge(close_ma5, close_ma10, left_index=True, right_index=True)\r\n",
    "    result_df.rename(columns={'Close_x': 'MA5', 'Close_y': 'MA10'}, inplace=True)\r\n",
    "    result_df.plot(kind='line', figsize=(10, 6)) #绘制双均线图\r\n",
    "    plt.show()\r\n",
    "   ```\r\n",
    "   - 可以在 DataFrame 或者 Series 对象使用 `rolling` 方法。\r\n",
    "   -  在指定窗口后使用 `mean` 计算平均值。\r\n",
    "    - 使用`merge` 函数合并到同一个DataFrame 对象。\r\n",
    "\r\n",
    "### 3. 相关性判定\r\n",
    "\r\n",
    "-   **协方差 (Covariance):**  衡量两个随机变量的联合变化程度。\r\n",
    "    -  `cov()` 用于计算协方差矩阵\r\n",
    "-   **皮尔逊相关系数 (Pearson Correlation Coefficient):**\r\n",
    "    -   度量两个变量之间的线性相关程度，取值范围为 -1 到 1.\r\n",
    "   -  计算公式：\r\n",
    "         $$\r\n",
    "        \\rho = \\frac {\\sum_{i=1}^{n}(X_i - \\bar{X})(Y_i - \\bar{Y})} {\\sqrt{\\sum_{i=1}^{n}(X_i - \\bar{X})^2} \\sqrt{\\sum_{i=1}^{n}(Y_i - \\bar{Y})^2}}\r\n",
    "        $$\r\n",
    "   -   判断方法：\r\n",
    "          - 当 $ \\rho \\gt 0 $，正相关。\r\n",
    "          - 当 $ \\rho \\lt 0 $，负相关。\r\n",
    "          - 当 $ \\rho \\approx 0 $，不相关。\r\n",
    "       - 当 $ |\\rho| \\in [0.6, 1] $, 强相关.\r\n",
    "        - 当 $ |\\rho| \\in [0.1, 0.6) $, 弱相关.\r\n",
    "       - 当 $ |\\rho| \\in [0, 0.1) $, 不相关.\r\n",
    " -   **使用方法：**\r\n",
    "        -  使用 `corr(method='pearson')` 计算皮尔逊相关系数。\r\n",
    "-   **斯皮尔曼秩相关系数 (Spearman Rank Correlation Coefficient):**\r\n",
    "    -  适用于非正态分布的数据，或由连续值转化为等级值的数据。\r\n",
    "    -  计算公式：\r\n",
    "        $$\r\n",
    "        r_{s}=1-{\\frac {6\\sum d_{i}^{2}}{n(n^{2}-1)}}\r\n",
    "        $$\r\n",
    "          其中，$d_{i}=\\operatorname {R} (X_{i})-\\operatorname {R} (Y_{i})$\r\n",
    "     -  **使用方法：**\r\n",
    "\r\n",
    "    ```python\r\n",
    "         boston_df['CRIM'] = boston_df.CRIM.apply(lambda x: x // 5 if x < 25 else 5).map(int)\r\n",
    "        boston_df['ZN'] = pd.qcut(boston_df.ZN, q=[0, 0.75, 0.8, 0.85, 0.9, 0.95, 1], labels=np.arange(6))\r\n",
    "        boston_df['AGE'] = (boston_df.AGE // 20).map(int)\r\n",
    "        boston_df['DIS'] = (boston_df.DIS // 2.05).map(int)\r\n",
    "        boston_df['B'] = (boston_df.B // 66).map(int)\r\n",
    "         boston_df['PRICE'] = pd.qcut(boston_df.PRICE, q=[0, 0.15, 0.3, 0.5, 0.7, 0.85, 1], labels=np.arange(6)) #连续数据离散化\r\n",
    "\r\n",
    "        boston_df[['CRIM', 'ZN', 'AGE', 'DIS', 'B', 'PRICE']].corr(method='spearman') #计算斯皮尔曼相关系数\r\n",
    "    ```\r\n",
    "        -  可以使用 `apply`,  `qcut`, `map` 等方法将数据进行预处理。\r\n",
    "         -  使用 `corr(method='spearman')` 计算斯皮尔曼秩相关系数。\r\n",
    "-   **肯德尔相关系数 (Kendall Correlation Coefficient):**\r\n",
    "       - 使用 `corr(method='kendall')`计算肯德尔相关系数 (请自行学习)\r\n",
    "-    **使用场景**:\r\n",
    "      -  线性关系，连续数据：  使用皮尔逊相关系数。\r\n",
    "       - 非正态总体，等级数据： 使用斯皮尔曼秩相关系数。\r\n",
    "       - 用于找出数据之间的线性关系。\r\n",
    "       - 可将连续数据离散化后用于评估与离散数据的相关性。\r\n",
    "\r\n",
    "### 总结\r\n",
    "\r\n",
    "本篇笔记介绍了 Pandas 中同比环比、窗口计算、相关性分析等进阶的数据分析技巧，这些方法能帮助我们更深入地理解数据，挖掘数据背后的信息：\r\n",
    "\r\n",
    "-   **同比环比:** 可以有效地比较数据随时间的变化趋势。\r\n",
    "-   **窗口计算:** 可以平滑数据，发现隐藏在数据中的模式。\r\n",
    "-   **相关性分析:** 可以帮助找出影响业务的因素。\r\n",
    "\r\n",
    "希望这篇笔记可以帮助你更有效地进行数据分析！\r\n"
   ]
  },
  {
   "cell_type": "markdown",
   "id": "18d9ee6c-99b5-4157-a3ec-53dde5151d4f",
   "metadata": {},
   "source": [
    "## **深入浅出pandas6**"
   ]
  },
  {
   "cell_type": "markdown",
   "id": "37a3a6ea-d9da-4199-859a-abbd3b6df4a2",
   "metadata": {},
   "source": [
    "Pandas 中 `Index` 类型的各种子类型及其使用方法\r\n",
    "\r\n",
    "### Pandas 索引进阶：理解 `Index` 及其子类型\r\n",
    "\r\n",
    "本篇笔记深入探讨了 Pandas 中 `Index` 类型的多种子类型，以及它们在数据操作中的作用和应用场景。 `Index` 对象为 Series 和 DataFrame 对象提供了索引服务，能用于排序数据、对齐数据以及快速检索数据。`DataFrame` 的行索引为 `index`, 列索引为 `columns`.\r\n",
    "\r\n",
    "### 1. `Index` 类型概述\r\n",
    "\r\n",
    "*   **作用:**\r\n",
    "    *   为 `Series` 和 `DataFrame` 提供索引服务。\r\n",
    "    *   实现数据的排序（`sort_index` 方法）。\r\n",
    "    *   实现数据的对齐（用于运算和合并数据）。\r\n",
    "    *   实现数据的快速检索。\r\n",
    "*   **创建:**\r\n",
    "    *   可以指定 `data`,  `dtype` 和 `name` 三个参数创建。\r\n",
    "    *    因为 `Index` 本身也是一维数据，所有之前学的 `Series` 的方法和属性也大部分可以在 `Index` 类型上使用。\r\n",
    "*   **常用子类型:**\r\n",
    "    *   `RangeIndex`：范围索引\r\n",
    "    *   `CategoricalIndex`：分类索引\r\n",
    "    *   `MultiIndex`：多级索引\r\n",
    "    *   `IntervalIndex`：间隔索引\r\n",
    "    *   `DatetimeIndex`：日期时间索引\r\n",
    "\r\n",
    "### 2. 范围索引 (`RangeIndex`)\r\n",
    "\r\n",
    "*   **定义:** 由具有单调性的整数构成的索引，可表示数据的位置信息。\r\n",
    "*   **创建:**\r\n",
    "    ```python\r\n",
    "    index = pd.RangeIndex(1, 13, name='月份')\r\n",
    "    index = pd.RangeIndex.from_range(range(1, 13), name='月份')\r\n",
    "    ser = pd.Series(data=sales_data, index=index)\r\n",
    "    ```\r\n",
    "\r\n",
    "    - `start` :  指定开始的整数\r\n",
    "    - `end`:   指定结束的整数 (不包含).\r\n",
    "     - `name`:   索引的名称。\r\n",
    "*   **用途：** 索引表示数字位置时使用，不表示数据类型。\r\n",
    "\r\n",
    "### 3. 分类索引 (`CategoricalIndex`)\r\n",
    "\r\n",
    "*   **定义:** 由定类尺度构成的索引，适合用于数据的分组和聚合。\r\n",
    "*   **创建:**\r\n",
    "    ```python\r\n",
    "    index = pd.CategoricalIndex(\r\n",
    "        data=['苹果', '香蕉', '苹果', '苹果', '桃子', '香蕉'],\r\n",
    "        categories=['苹果', '香蕉', '桃子'],\r\n",
    "        ordered=True\r\n",
    "    )\r\n",
    "    ```\r\n",
    "        * `data`:  索引的标签列表\r\n",
    "        * `categories`:  表示索引类别的列表。\r\n",
    "        * `ordered`:  指定是否是有序数据。\r\n",
    "*   **操作:**\r\n",
    "    *   分组聚合 ( 使用 `groupby(level=0)` )\r\n",
    "        ```python\r\n",
    "            ser.groupby(level=0).sum()\r\n",
    "         ```\r\n",
    "      *   指定顺序（`reorder_categories` 方法）：\r\n",
    "          ```python\r\n",
    "              ser.index = index.reorder_categories(['香蕉', '桃子', '苹果'])\r\n",
    "            ser.groupby(level=0).sum()\r\n",
    "          ```\r\n",
    "   -   使用分类索引，分组和排序会按照类别数据处理。\r\n",
    "*    **用途:** 数据按类别分组时使用。\r\n",
    "\r\n",
    "### 4. 多级索引 (`MultiIndex`)\r\n",
    "\r\n",
    "*   **定义:** 表示层次或多级索引。\r\n",
    "*   **创建:**\r\n",
    "    *  `from_tuples()`: 从元组创建多级索引\r\n",
    "        ```python\r\n",
    "        tuples = [(1, 'red'), (1, 'blue'), (2, 'red'), (2, 'blue')]\r\n",
    "        index = pd.MultiIndex.from_tuples(tuples, names=['no', 'color'])\r\n",
    "        ```\r\n",
    "      -`from_arrays()`:  从数组创建多级索引\r\n",
    "          ```python\r\n",
    "         arrays = [[1, 1, 2, 2], ['red', 'blue', 'red', 'blue']]\r\n",
    "        index = pd.MultiIndex.from_arrays(arrays, names=['no', 'color'])\r\n",
    "          ```\r\n",
    "     -   `from_product()`:  从列表的笛卡尔积创建多级索引\r\n",
    "          ```python\r\n",
    "           stu_ids = np.arange(1001, 1006)\r\n",
    "           semisters = ['期中', '期末']\r\n",
    "            index = pd.MultiIndex.from_product((stu_ids, semisters), names=['学号', '学期'])\r\n",
    "          ```\r\n",
    "       -    使用  `names`  参数为每个索引层指定名称\r\n",
    "*   **操作:**\r\n",
    "    *   根据级别 (level) 分组和聚合：\r\n",
    "        ```python\r\n",
    "        ser.groupby('no').sum()\r\n",
    "        ser.groupby(level=1).sum()\r\n",
    "       ```\r\n",
    "      - 可以通过名称或者数字索引指定分组级别\r\n",
    "    *   对 DataFrame 进行分组：\r\n",
    "        ```python\r\n",
    "         df.groupby(level=0).agg(lambda x: x.values[0] * 0.25 + x.values[1] * 0.75)\r\n",
    "       ```\r\n",
    "      - 可以使用自定义函数，在多级索引中更方便的实现分层聚合。\r\n",
    "*   **用途:** 用于表示有层次关系的数据，通常用于表格数据的分组和复杂的数据处理。\r\n",
    "\r\n",
    "### 5. 间隔索引 (`IntervalIndex`)\r\n",
    "\r\n",
    "*   **定义:** 使用固定的间隔范围作为索引。\r\n",
    "*   **创建:**\r\n",
    "    ```python\r\n",
    "        index = pd.interval_range(start=0, end=5)  # 默认左开右闭\r\n",
    "       index = pd.interval_range(start=0, end=5, closed='left')# 左闭右开\r\n",
    "        index = pd.interval_range(start=0, end=5, closed='both')  # 两端都是关闭的\r\n",
    "        index = pd.interval_range(start=pd.Timestamp('2022-01-01'), end=pd.Timestamp('2022-01-04'), closed='both') #可以定义时间间隔\r\n",
    "    ```\r\n",
    "        *  `start` :  指定开始的整数，或者起始的时间戳\r\n",
    "         *  `end`：  指定结束的整数，或者结束的时间戳\r\n",
    "          * `closed`:  指定区间的闭合状态 (`left`, `right`, `both`, `neither`)。\r\n",
    "*   **操作:**\r\n",
    "    *   检查是否包含元素：`contains()`\r\n",
    "\r\n",
    "         ```python\r\n",
    "            index.contains(1.5)\r\n",
    "        ```\r\n",
    "      *  检查范围是否重叠: `overlaps()`\r\n",
    "          ```python\r\n",
    "           index.overlaps(pd.Interval(1.5, 3.5))\r\n",
    "          ```\r\n",
    "\r\n",
    "    - 可以使用 `Interval` 对象指定区间范围。\r\n",
    "*   **用途：**  表示范围数据或时间段时使用。\r\n",
    "\r\n",
    "### 6. 日期时间索引 (`DatetimeIndex`)\r\n",
    "\r\n",
    "*   **定义:** 使用日期时间值作为索引，用于时间序列数据的处理。\r\n",
    "*   **创建:**\r\n",
    "    ```python\r\n",
    "        pd.date_range('2021-1-1', '2021-6-30', periods=10) #按周期生成\r\n",
    "        pd.date_range('2021-1-1', '2021-6-30', freq='W') #按周生成\r\n",
    "    ```\r\n",
    "\r\n",
    "    *   `start`:  起始日期时间。\r\n",
    "    *   `end`: 结束日期时间。\r\n",
    "    *   `periods`: 生成周期数量。\r\n",
    "    *   `freq`:  采样频率（例如 'W' (周) ，'12H' (12 小时),  'M' (月) , 'Q'(季度) 等）。可以使用类似 `'W-MON'` 指定星期一为周起始日\r\n",
    "    *  `tz`: 指定时区.\r\n",
    "*    **操作:**\r\n",
    "     -   `DateOffset` 运算：可以偏移时间\r\n",
    "         ```python\r\n",
    "            index - pd.DateOffset(days=2)\r\n",
    "          index + pd.DateOffset(hours=2, minutes=10)\r\n",
    "        ```\r\n",
    "      * 时间采样 (基于频率对数据进行抽样)： `asfreq()`\r\n",
    "       ```python\r\n",
    "          baidu_df.asfreq('5D') # 每 5 天采样一个数据，但可能会包含非交易日\r\n",
    "          baidu_df.asfreq('5D', method='ffill') # 采用上一个交易日的数据补全空值\r\n",
    "         ```\r\n",
    "     -    时间重采样 (`resample()`)：根据时间周期对数据分组聚合。\r\n",
    "         ```python\r\n",
    "           baidu_df.resample('1M').mean()\r\n",
    "         baidu_df.resample('1M').agg(['mean', 'std']) # 可以同时进行多种聚合操作\r\n",
    "         ```\r\n",
    "         * 输出 DataFrame 对象的列索引是 MultiIndex 对象\r\n",
    "     -    时区操作 `tz_localize` 与 `tz_convert`\r\n",
    "\r\n",
    "          ```python\r\n",
    "          baidu_df = baidu_df.tz_localize('Asia/Chongqing') # 将数据本地化到 \"Asia/Chongqing\"\r\n",
    "          baidu_df.tz_convert('America/New_York') # 转换时区为 \"America/New_York\"\r\n",
    "          ```\r\n",
    "\r\n",
    "*   **用途:**\r\n",
    "    *   处理时间序列数据，进行时间序列分析。\r\n",
    "    *   数据采样与重采样。\r\n",
    "    *  时间偏移。\r\n",
    "    *   时区转换。\r\n",
    "\r\n",
    "### 总结\r\n",
    "\r\n",
    "本篇笔记总结了 Pandas 中 `Index` 类型的几个常用子类型，它们在数据处理和分析中扮演着关键的角色。掌握不同 `Index` 类型的用法，能帮助我们更加灵活、高效地使用 Pandas 进行数据处理。\r\n",
    "\r\n",
    "*   `RangeIndex`:  表示数字索引.\r\n",
    "*  `CategoricalIndex`:  可以表示类别索引，用于数据分组\r\n",
    "*   `MultiIndex`: 用于表示层次化的索引，适用于高维度数据\r\n",
    "*  `IntervalIndex`:  适用于处理范围数据的索引\r\n",
    "*   `DatetimeIndex`: 适用于时间序列数据的分析与操作。\r\n"
   ]
  },
  {
   "cell_type": "code",
   "execution_count": null,
   "id": "fdddfe80-a495-45c9-a9d6-dbb8ec2d7c8d",
   "metadata": {},
   "outputs": [],
   "source": []
  }
 ],
 "metadata": {
  "kernelspec": {
   "display_name": "Python (myenv)",
   "language": "python",
   "name": "myenv"
  },
  "language_info": {
   "codemirror_mode": {
    "name": "ipython",
    "version": 3
   },
   "file_extension": ".py",
   "mimetype": "text/x-python",
   "name": "python",
   "nbconvert_exporter": "python",
   "pygments_lexer": "ipython3",
   "version": "3.12.3"
  }
 },
 "nbformat": 4,
 "nbformat_minor": 5
}
